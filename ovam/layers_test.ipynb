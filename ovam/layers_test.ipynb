{
 "cells": [
  {
   "cell_type": "code",
   "execution_count": 1,
   "metadata": {},
   "outputs": [],
   "source": [
    "import os\n",
    "import sys\n",
    "file_info = \"all_named_modules.txt\"\n",
    "\n",
    "# each line should be a seperate string\n",
    "def get_lines(file):\n",
    "    with open(file, \"r\") as f:\n",
    "        return f.readlines()\n",
    "    \n",
    "info = get_lines(file_info)\n"
   ]
  },
  {
   "cell_type": "code",
   "execution_count": 10,
   "metadata": {},
   "outputs": [],
   "source": [
    "import re\n",
    "def get_attn_modules(model) -> list:\n",
    "    \"\"\"\n",
    "    Retrieve all attention modules matching the naming convention.\n",
    "\n",
    "    The regex captures modules with names like:\n",
    "        up_blocks.<num>.attentions.<num>.transformer_blocks.<num>.attn<digit>\n",
    "        down_blocks.<num>.attentions.<num>.transformer_blocks.<num>.attn<digit>\n",
    "        mid_block.<num>.attentions.<num>.transformer_blocks.<num>.attn<digit>\n",
    "\n",
    "    Returns:\n",
    "        List of tuples (module_name, module)\n",
    "    \"\"\"\n",
    "    regex_pattern = r\"^(up_blocks|down_blocks|mid_block)\\.\\d\\.attentions\\.\\d\\.transformer_blocks\\.\\d\\.attn[\\d]$\"\n",
    "    return [name.strip() for name in info if re.match(regex_pattern, name)]\n",
    "    #return [(name, module) for name, module in model.named_modules() if re.match(regex_pattern, name)]"
   ]
  },
  {
   "cell_type": "code",
   "execution_count": 11,
   "metadata": {},
   "outputs": [],
   "source": [
    "subset_info = get_attn_modules(info)"
   ]
  },
  {
   "cell_type": "code",
   "execution_count": 13,
   "metadata": {},
   "outputs": [
    {
     "data": {
      "text/plain": [
       "120"
      ]
     },
     "execution_count": 13,
     "metadata": {},
     "output_type": "execute_result"
    }
   ],
   "source": [
    "len(subset_info)"
   ]
  },
  {
   "cell_type": "code",
   "execution_count": null,
   "metadata": {},
   "outputs": [],
   "source": []
  }
 ],
 "metadata": {
  "kernelspec": {
   "display_name": "ovamp",
   "language": "python",
   "name": "python3"
  },
  "language_info": {
   "codemirror_mode": {
    "name": "ipython",
    "version": 3
   },
   "file_extension": ".py",
   "mimetype": "text/x-python",
   "name": "python",
   "nbconvert_exporter": "python",
   "pygments_lexer": "ipython3",
   "version": "3.9.18"
  }
 },
 "nbformat": 4,
 "nbformat_minor": 2
}
